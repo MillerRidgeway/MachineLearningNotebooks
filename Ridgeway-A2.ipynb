{
 "cells": [
  {
   "cell_type": "markdown",
   "metadata": {},
   "source": [
    "# A2.2 Multilayered Neural Network\n",
    "\n",
    "* 2.2: *Added example output in Section 1.1.*\n",
    "* 2.1: *Added A2grader.tar and details on how to rename the functions for the use of the asymmetric sigmoid activation function.*"
   ]
  },
  {
   "cell_type": "code",
   "execution_count": 4,
   "metadata": {},
   "outputs": [],
   "source": [
    "import numpy as np\n",
    "import matplotlib.pyplot as plt"
   ]
  },
  {
   "cell_type": "code",
   "execution_count": 5,
   "metadata": {},
   "outputs": [],
   "source": [
    "def add_ones(X):\n",
    "    return np.insert(X, 0, 1, axis=1)\n",
    "\n",
    "def rmse(Y, T):\n",
    "    error = T - Y\n",
    "    return np.sqrt(np.mean(error ** 2))\n",
    "\n",
    "def calc_standardize_parameters(X, T):\n",
    "    Xmeans = X.mean(axis=0)\n",
    "    Xstds = X.std(axis=0)\n",
    "    Tmeans = T.mean(axis=0)\n",
    "    Tstds = T.std(axis=0)\n",
    "    return {'Xmeans': Xmeans, 'Xstds': Xstds,\n",
    "            'Tmeans': Tmeans, 'Tstds': Tstds}\n",
    "\n",
    "def standardize_X(X, stand_parms):\n",
    "    return (X - stand_parms['Xmeans']) / stand_parms['Xstds']\n",
    "\n",
    "\n",
    "def unstandardize_X(Xst, stand_parms):\n",
    "    return Xst * stand_parms['Xstds'] + stand_parms['Xmeans']\n",
    "\n",
    "\n",
    "def standardize_T(T, stand_parms):\n",
    "    return (T - stand_parms['Tmeans']) / stand_parms['Tstds']\n",
    "\n",
    "\n",
    "def unstandardize_T(Tst, stand_parms):\n",
    "    return Tst * stand_parms['Tstds'] + stand_parms['Tmeans']"
   ]
  },
  {
   "cell_type": "markdown",
   "metadata": {},
   "source": [
    "Here is a test of the functions.  We fit a neural network to simple one-dimensional data."
   ]
  },
  {
   "cell_type": "code",
   "execution_count": 28,
   "metadata": {},
   "outputs": [],
   "source": [
    "n_samples = 30\n",
    "\n",
    "Xtrain = np.linspace(0., 20.0, n_samples).reshape((n_samples, 1))\n",
    "Ttrain = 0.2 + 0.05 * (Xtrain) + 0.4 * np.sin(Xtrain / 2) + 0.2 * np.random.normal(size=(n_samples, 1))\n",
    "\n",
    "Xtest = Xtrain + 0.1 * np.random.normal(size=(n_samples, 1))\n",
    "Ttest = 0.2 + 0.05 * (Xtest) + 0.4 * np.sin(Xtest / 2) + 0.2 * np.random.normal(size=(n_samples, 1))"
   ]
  },
  {
   "cell_type": "markdown",
   "metadata": {},
   "source": [
    "## Required Part One\n",
    "\n",
    "The changes you must implement are specified here.  We recommend that you copy the above code cells and paste them below, then edit them appropriately.\n",
    "\n",
    "You will implement a set of functions for training and testing a multilayered neural network to predict continuous-valued target values.  This assignment provides an implementation of the functions for a neural network with one hidden layer.  You must modify the functions to allow any number of hidden layers, each with any number of units.\n",
    "\n",
    "The required functions are:\n",
    "\n",
    "* `make_weights(n_inputs, n_hiddens_list, n_outputs):` Given integers `n_inputs`, list of `n_hiddens`, one integer per hidden layer, and `n_outputs`, create and return list of weight matrices, one for each layer.\n",
    "* `forward(Xst, Ws)`: Given standardized input matrix `X` and list of weight matrices `Ws`, calculate the output of all layers and return a list of the outputs of each layer.\n",
    "* `backward(Xst, Tst, Ws)`: Given standardized input matrix `X`, standardized target matrix `T`, and list of weight matrices `Ws`, calculate the gradient of the mean squared error with respect to the weights in each layer, returning a tuple or list of all gradient matrices.\n",
    "* `train_sgd(X, T, Ws, learning_rate, n_epochs):` Given input and target matrices `X` and `T`, liist of all weight matrices `Ws`, a learning_rate and the number of epochs to train, update the weights for `n_epochs` iterations using the gradient of the mean squared over the whole data set in `X` and `T`  and return the list of resulting new weight matrices, the standardization parameters, and the list of RMSE training errors, one per epoch.\n",
    "* `use(X, Ws, stand_parms):` Calculate outputs of all layers after standardizing input `X`. Return list of outputs of each hidden layer, and unstandardized output of output layer."
   ]
  },
  {
   "cell_type": "code",
   "execution_count": 9,
   "metadata": {},
   "outputs": [],
   "source": [
    "X = np.arange(5).reshape(-1, 1)\n",
    "T = (X - 2) ** 3\n",
    "\n",
    "stand_parms = calc_standardize_parameters(X, T)"
   ]
  },
  {
   "cell_type": "code",
   "execution_count": 10,
   "metadata": {},
   "outputs": [],
   "source": [
    "def make_weights(n_inputs, n_hiddens, n_outputs):\n",
    "    #First layer (input)\n",
    "    layer_list = [np.random.uniform(-1, 1, size=(1 + n_inputs, n_hiddens[0])) / np.sqrt(n_inputs + 1)]\n",
    "    \n",
    "    #All hidden layers after first\n",
    "    for i in range(1, len(n_hiddens)):\n",
    "        hidden_layer = np.random.uniform(-1, 1, size=(1 + n_hiddens[i - 1], n_hiddens[i])) / np.sqrt(n_hiddens[i - 1] + 1)\n",
    "        layer_list.append(hidden_layer)\n",
    "        \n",
    "    #Last layer (output)    \n",
    "    output_layer = np.random.uniform(-1, 1, size=(1 + n_hiddens[-1], n_outputs)) / np.sqrt(n_hiddens[-1] + 1)\n",
    "    \n",
    "    layer_list.append(output_layer)\n",
    "    return layer_list"
   ]
  },
  {
   "cell_type": "code",
   "execution_count": 11,
   "metadata": {},
   "outputs": [
    {
     "data": {
      "text/plain": [
       "[array([[-0.17742707,  0.63740628],\n",
       "        [ 0.32808898,  0.13952417]]),\n",
       " array([[-0.39719546, -0.39722331, -0.51028109],\n",
       "        [ 0.42282379,  0.11675756,  0.24026152],\n",
       "        [-0.55358134,  0.54260516,  0.3838717 ]]),\n",
       " array([[-0.28766089],\n",
       "        [-0.31817503],\n",
       "        [-0.31659549],\n",
       "        [-0.19575776]])]"
      ]
     },
     "execution_count": 11,
     "metadata": {},
     "output_type": "execute_result"
    }
   ],
   "source": [
    "np.random.seed(42)  # Set the random number generator seed so same weight values are generated each time.\n",
    "n_inputs = 1\n",
    "n_hiddens_list = [2, 3]\n",
    "n_outputs = 1\n",
    "Ws = make_weights(n_inputs, n_hiddens_list, n_outputs)\n",
    "Ws"
   ]
  },
  {
   "cell_type": "code",
   "execution_count": 12,
   "metadata": {},
   "outputs": [],
   "source": [
    "def forward(Xst, Ws):\n",
    "    layers_final = []\n",
    "    \n",
    "    #Input layer \n",
    "    Z_input = np.tanh(add_ones(Xst) @ Ws[0])\n",
    "    layers_final.append(Z_input)\n",
    "    \n",
    "    #All but the output layer (no activation function)\n",
    "    for i in range(1, len(Ws) - 1):\n",
    "        Z = np.tanh(add_ones(layers_final[i - 1]) @ Ws[i])\n",
    "        layers_final.append(Z)\n",
    "    \n",
    "    #Output layer\n",
    "    Yst = add_ones(layers_final[-1]) @ Ws[-1]\n",
    "    layers_final.append(Yst)\n",
    "    \n",
    "    return layers_final"
   ]
  },
  {
   "cell_type": "code",
   "execution_count": 13,
   "metadata": {},
   "outputs": [
    {
     "data": {
      "text/plain": [
       "[array([[-0.56586221,  0.41371847],\n",
       "        [-0.38798095,  0.49203951],\n",
       "        [-0.17558839,  0.56313093],\n",
       "        [ 0.05451278,  0.6267617 ],\n",
       "        [ 0.27896633,  0.68300402]]),\n",
       " array([[-0.69907152, -0.23436786, -0.45216727],\n",
       "        [-0.68241869, -0.17375875, -0.39238667],\n",
       "        [-0.65452655, -0.11169878, -0.32416858],\n",
       "        [-0.61759623, -0.05073081, -0.25110112],\n",
       "        [-0.57659057,  0.00594955, -0.17911703]]),\n",
       " array([[ 0.09748127],\n",
       "        [ 0.06129167],\n",
       "        [ 0.01941496],\n",
       "        [-0.02594105],\n",
       "        [-0.07102422]])]"
      ]
     },
     "execution_count": 13,
     "metadata": {},
     "output_type": "execute_result"
    }
   ],
   "source": [
    "Xst = standardize_X(X, stand_parms)\n",
    "\n",
    "forward(Xst, Ws)"
   ]
  },
  {
   "cell_type": "code",
   "execution_count": 14,
   "metadata": {},
   "outputs": [],
   "source": [
    "def backward(Xst, Tst, Wst):\n",
    "    n_samples = Xst.shape[0]\n",
    "    n_outputs = Tst.shape[1]\n",
    "    gradient_list = []\n",
    "    \n",
    "    # Init forward values\n",
    "    outputs = forward(Xst, Wst)\n",
    "    \n",
    "    # Init Delta\n",
    "    delta = -(Tst - outputs[-1]) /  (n_samples * n_outputs)\n",
    "    \n",
    "    # Back-propagate the delta value from the output layer, through the output layer weights,\n",
    "    # to the hidden units.  Multiply the result by the derivative of the hidden units'\n",
    "    # activation function, tanh\n",
    "    Wst.reverse()\n",
    "    outputs.reverse()\n",
    "    for i in range(len(Wst)):\n",
    "        # Output Layer\n",
    "        if i == 0:\n",
    "            gradient_W = add_ones(outputs[i + 1]).T @ delta\n",
    "            gradient_list.append(gradient_W)\n",
    "        # Hidden Layer(s)\n",
    "        elif i != len(Wst) - 1:  \n",
    "            delta = (delta @ Wst[i - 1][1:, :].T) * (1 - outputs[i] ** 2)\n",
    "            gradient_V = add_ones(outputs[i + 1]).T @ delta\n",
    "            gradient_list.insert(0,gradient_V)\n",
    "        # Input Layer\n",
    "        else:\n",
    "            delta = (delta @ Wst[i - 1][1:, :].T) * (1 - outputs[i] ** 2)\n",
    "            gradient_V = add_ones(Xst).T @ delta\n",
    "            gradient_list.insert(0,gradient_V)\n",
    "    \n",
    "    Wst.reverse()\n",
    "    return gradient_list"
   ]
  },
  {
   "cell_type": "code",
   "execution_count": 15,
   "metadata": {},
   "outputs": [
    {
     "data": {
      "text/plain": [
       "[array([[ 0.02036822, -0.01636089],\n",
       "        [ 0.12862245,  0.0892945 ]]),\n",
       " array([[0.01472725, 0.00112042, 0.00918263],\n",
       "        [0.05411053, 0.09250499, 0.05057852],\n",
       "        [0.02592358, 0.02999365, 0.02150022]]),\n",
       " array([[ 0.01624453],\n",
       "        [-0.05411685],\n",
       "        [-0.08718807],\n",
       "        [-0.10225819]])]"
      ]
     },
     "execution_count": 15,
     "metadata": {},
     "output_type": "execute_result"
    }
   ],
   "source": [
    "Tst = standardize_T(T, stand_parms)\n",
    "backward(Xst, Tst, Ws)"
   ]
  },
  {
   "cell_type": "code",
   "execution_count": 16,
   "metadata": {},
   "outputs": [],
   "source": [
    "def train_sgd(X, T, Ws, learning_rate, n_epochs):\n",
    "    # Store standardization parameters in dictionary stand_parms.\n",
    "    stand_parms = calc_standardize_parameters(X, T)\n",
    "    # Standardize X and T.\n",
    "    Xst = standardize_X(X, stand_parms)\n",
    "    Tst = standardize_T(T, stand_parms)\n",
    "\n",
    "    error_trace = []\n",
    "\n",
    "    # Update weights for n_epochs passes through the training data\n",
    "    for epoch in range(n_epochs):\n",
    "\n",
    "        # Calculate the gradients of the mean squared error with respect to each weight matrix.\n",
    "        gradient_list = backward(Xst, Tst, Ws)\n",
    "        \n",
    "        # Update the values in each weight matrix using SGD.\n",
    "        for i in range(len(Ws)):\n",
    "            Ws[i] -= learning_rate * gradient_list[i]\n",
    "\n",
    "        # Calculate the outputs of all layers given the current weight values.\n",
    "        Yst = forward(Xst, Ws)\n",
    "        Y = unstandardize_T(Yst[-1], stand_parms)\n",
    "        error_trace.append(rmse(Y, T))\n",
    "\n",
    "    return Ws, stand_parms, error_trace"
   ]
  },
  {
   "cell_type": "code",
   "execution_count": 17,
   "metadata": {},
   "outputs": [],
   "source": [
    "def use(X, Ws, stand_parms):\n",
    "    # Standardize inputs X\n",
    "    Xst = standardize_X(X, stand_parms)\n",
    "    # Calculate outputs of each layer.\n",
    "    Yst = forward(Xst, Ws)\n",
    "    # Unstandardize output of output layer\n",
    "    Yst[-1] = unstandardize_T(Yst[-1], stand_parms)\n",
    "    return Yst"
   ]
  },
  {
   "cell_type": "code",
   "execution_count": 18,
   "metadata": {},
   "outputs": [
    {
     "data": {
      "text/plain": [
       "[array([[-0.56586221,  0.41371847],\n",
       "        [-0.38798095,  0.49203951],\n",
       "        [-0.17558839,  0.56313093],\n",
       "        [ 0.05451278,  0.6267617 ],\n",
       "        [ 0.27896633,  0.68300402]]),\n",
       " array([[-0.69907152, -0.23436786, -0.45216727],\n",
       "        [-0.68241869, -0.17375875, -0.39238667],\n",
       "        [-0.65452655, -0.11169878, -0.32416858],\n",
       "        [-0.61759623, -0.05073081, -0.25110112],\n",
       "        [-0.57659057,  0.00594955, -0.17911703]]),\n",
       " array([[ 0.49705891],\n",
       "        [ 0.31252744],\n",
       "        [ 0.09899728],\n",
       "        [-0.13227391],\n",
       "        [-0.36215388]])]"
      ]
     },
     "execution_count": 18,
     "metadata": {},
     "output_type": "execute_result"
    }
   ],
   "source": [
    "use(X, Ws, stand_parms)"
   ]
  },
  {
   "cell_type": "markdown",
   "metadata": {},
   "source": [
    "Test your functions on the same one-dimensional data defined above as `Xtrain, Ttrain` and `Xtest, Ttest` shown above.  Try your code using two hidden layers of as many units in each layer as you wish.  Plot the results, including an additional plot to show the outputs of each of the two hidden layers."
   ]
  },
  {
   "cell_type": "code",
   "execution_count": 29,
   "metadata": {},
   "outputs": [
    {
     "name": "stdout",
     "output_type": "stream",
     "text": [
      "RMSE: Train 0.16 Test 0.22\n"
     ]
    }
   ],
   "source": [
    "# Train using given data (Xtrain, etc)\n",
    "n_inputs = Xtrain.shape[1]\n",
    "n_hiddens = [5,10]\n",
    "n_outputs = Ttrain.shape[1]\n",
    "\n",
    "n_epochs = 2000\n",
    "learning_rate = 0.1\n",
    "\n",
    "Ws = make_weights(n_inputs, n_hiddens, n_outputs)\n",
    "\n",
    "Ws, stand_parms, error_trace = train_sgd(Xtrain, Ttrain, Ws, learning_rate, n_epochs)\n",
    "\n",
    "Ytrain = use(Xtrain, Ws, stand_parms)\n",
    "rmse_train = rmse(Ytrain[-1], Ttrain)\n",
    "Ytest = use(Xtest, Ws, stand_parms)\n",
    "rmse_test = rmse(Ytest[-1], Ttest)\n",
    "\n",
    "print(f'RMSE: Train {rmse_train:.2f} Test {rmse_test:.2f}')"
   ]
  },
  {
   "cell_type": "code",
   "execution_count": 30,
   "metadata": {},
   "outputs": [
    {
     "data": {
      "text/plain": [
       "Text(0, 0.5, 'Hidden Unit Outputs')"
      ]
     },
     "execution_count": 30,
     "metadata": {},
     "output_type": "execute_result"
    },
    {
     "data": {
      "image/png": "[encoded data removed]",
      "text/plain": [
       "<Figure size 720x720 with 4 Axes>"
      ]
     },
     "metadata": {
      "needs_background": "light"
     },
     "output_type": "display_data"
    }
   ],
   "source": [
    "# Plot results from training with given data\n",
    "plt.figure(figsize=(10, 10))\n",
    "plt.subplot(4, 1, 1)\n",
    "plt.plot(error_trace)\n",
    "plt.xlabel('Epoch')\n",
    "plt.ylabel('RMSE')\n",
    "\n",
    "plt.subplot(4, 1, 2)\n",
    "plt.plot(Xtrain, Ttrain, 'o', label='Training Data')\n",
    "plt.plot(Xtest, Ttest, 'o', label='Testing Data')\n",
    "X_for_plot = np.linspace(0, 20, 100).reshape(-1, 1)\n",
    "Y_train = use(X_for_plot, Ws, stand_parms)\n",
    "plt.plot(X_for_plot, Y_train[-1], label='Neural Net Output')\n",
    "plt.legend()\n",
    "plt.xlabel('X')\n",
    "plt.ylabel('Y')\n",
    "\n",
    "plt.subplot(4, 1, 3)\n",
    "plt.plot(X_for_plot, Y_train[0])\n",
    "plt.xlabel('X')\n",
    "plt.ylabel('Hidden Unit Outputs')\n",
    "\n",
    "plt.subplot(4, 1, 4)\n",
    "plt.plot(X_for_plot, Y_train[1])\n",
    "plt.xlabel('X')\n",
    "plt.ylabel('Hidden Unit Outputs')"
   ]
  },
  {
   "cell_type": "markdown",
   "metadata": {},
   "source": [
    "Write a for loop to create and train neural nets containing one, two, three and four hidden layers each with 4 hidden units. Train each for 10,000 epochs and a learning rate of 0.1. Collect list of results with each result being a list containing the number of layers and the RMSE for training and testing data.\n",
    "\n",
    "Print a pretty table of your results be creating a `pandas` DataFrame of the results list (of lists). Discuss the results."
   ]
  },
  {
   "cell_type": "code",
   "execution_count": 38,
   "metadata": {},
   "outputs": [
    {
     "name": "stdout",
     "output_type": "stream",
     "text": [
      "RMSE: Train 0.15 Test 0.23\n",
      "RMSE: Train 0.14 Test 0.23\n",
      "RMSE: Train 0.14 Test 0.23\n",
      "RMSE: Train 0.14 Test 0.23\n"
     ]
    },
    {
     "data": {
      "text/plain": [
       "[[1, 0.1483634172009399, 0.22824331830220268],\n",
       " [2, 0.14312604306417998, 0.22659858476432002],\n",
       " [3, 0.13940806279634618, 0.23023087230075118],\n",
       " [4, 0.14054177568907336, 0.22795803322572078]]"
      ]
     },
     "execution_count": 38,
     "metadata": {},
     "output_type": "execute_result"
    }
   ],
   "source": [
    "# Iterate and create NN with 1..N layers\n",
    "\n",
    "hidden_layers_list = [[4], [4,4], [4,4,4], [4,4,4,4]]\n",
    "n_epochs = 10000\n",
    "learning_rate = 0.1\n",
    "\n",
    "results = []\n",
    "\n",
    "for layer in hidden_layers_list:\n",
    "    \n",
    "    Ws = make_weights(n_inputs, layer, n_outputs)\n",
    "\n",
    "    Ws, stand_parms, error_trace = train_sgd(Xtrain, Ttrain, Ws, learning_rate, n_epochs)\n",
    "\n",
    "    Ytrain = use(Xtrain, Ws, stand_parms)\n",
    "    rmse_train = rmse(Ytrain[-1], Ttrain)\n",
    "    Ytest = use(Xtest, Ws, stand_parms)\n",
    "    rmse_test = rmse(Ytest[-1], Ttest)\n",
    "    \n",
    "    results.append([len(layer), rmse_train, rmse_test])\n",
    "\n",
    "    print(f'RMSE: Train {rmse_train:.2f} Test {rmse_test:.2f}')\n",
    "\n",
    "results"
   ]
  },
  {
   "cell_type": "code",
   "execution_count": 32,
   "metadata": {
    "scrolled": true
   },
   "outputs": [
    {
     "data": {
      "text/html": [
       "<div>\n",
       "<style scoped>\n",
       "    .dataframe tbody tr th:only-of-type {\n",
       "        vertical-align: middle;\n",
       "    }\n",
       "\n",
       "    .dataframe tbody tr th {\n",
       "        vertical-align: top;\n",
       "    }\n",
       "\n",
       "    .dataframe thead th {\n",
       "        text-align: right;\n",
       "    }\n",
       "</style>\n",
       "<table border=\"1\" class=\"dataframe\">\n",
       "  <thead>\n",
       "    <tr style=\"text-align: right;\">\n",
       "      <th></th>\n",
       "      <th>Layers</th>\n",
       "      <th>RMSE Train</th>\n",
       "      <th>RMSE Test</th>\n",
       "    </tr>\n",
       "  </thead>\n",
       "  <tbody>\n",
       "    <tr>\n",
       "      <th>0</th>\n",
       "      <td>1</td>\n",
       "      <td>0.148205</td>\n",
       "      <td>0.227303</td>\n",
       "    </tr>\n",
       "    <tr>\n",
       "      <th>1</th>\n",
       "      <td>2</td>\n",
       "      <td>0.143760</td>\n",
       "      <td>0.226630</td>\n",
       "    </tr>\n",
       "    <tr>\n",
       "      <th>2</th>\n",
       "      <td>3</td>\n",
       "      <td>0.144032</td>\n",
       "      <td>0.230596</td>\n",
       "    </tr>\n",
       "    <tr>\n",
       "      <th>3</th>\n",
       "      <td>4</td>\n",
       "      <td>0.140263</td>\n",
       "      <td>0.227416</td>\n",
       "    </tr>\n",
       "  </tbody>\n",
       "</table>\n",
       "</div>"
      ],
      "text/plain": [
       "   Layers  RMSE Train  RMSE Test\n",
       "0       1    0.148205   0.227303\n",
       "1       2    0.143760   0.226630\n",
       "2       3    0.144032   0.230596\n",
       "3       4    0.140263   0.227416"
      ]
     },
     "execution_count": 32,
     "metadata": {},
     "output_type": "execute_result"
    }
   ],
   "source": [
    "import pandas\n",
    "df = pandas.DataFrame(results, columns=('Layers', 'RMSE Train', 'RMSE Test'))\n",
    "df"
   ]
  },
  {
   "cell_type": "markdown",
   "metadata": {},
   "source": [
    "### Discussion: tanh\n",
    "\n",
    "The table above shows the convergence of the **tanh** activation function over a period of 1 to 4, 4 neuron hidden layers each with 10000 training cycles (epochs). Theoretically, more hidden layers in a given network enables a closer fit to the given dataset as more and more subleties are accounted for by the additional layers.\n",
    "\n",
    "In the case of the above experiment, there is no discernable increase in training or test accuracy as the number of hidden layers increases. The RMSE values remain almost constant over all layer variants. This is likely due to the fact that the network has _already_ converged upon a local minima for this data, and is simply osciallating about it."
   ]
  },
  {
   "cell_type": "markdown",
   "metadata": {},
   "source": [
    "## Required Part Two\n",
    "\n",
    "Copy and paste here the following functions and rename them as shown.  These new versions will use the asymmetric sigmoid activation function instead of the symmetric one that used `tanh`.  Repeat the above experiments with the one-dimensional data.\n",
    "\n",
    "* `forward` becomes `forward_asig`\n",
    "* `backward` becomes `backward_asig`\n",
    "* `train_sgd` becomes `train_sgd_asig`\n",
    "* `use` becomes `use_asig`"
   ]
  },
  {
   "cell_type": "code",
   "execution_count": null,
   "metadata": {},
   "outputs": [],
   "source": [
    "def asig(X):\n",
    "    return 1/(1 + np.exp(-X))\n",
    "\n",
    "def forward_asig(Xst, Ws):\n",
    "    layers_final = []\n",
    "    \n",
    "    #Input layer \n",
    "    Z_input = asig(add_ones(Xst) @ Ws[0])\n",
    "    layers_final.append(Z_input)\n",
    "    \n",
    "    #All but the output layer (no activation function)\n",
    "    for i in range(1, len(Ws) - 1):\n",
    "        Z = asig(add_ones(layers_final[i - 1]) @ Ws[i])\n",
    "        layers_final.append(Z)\n",
    "    \n",
    "    #Output layer\n",
    "    Yst = add_ones(layers_final[-1]) @ Ws[-1]\n",
    "    layers_final.append(Yst)\n",
    "    \n",
    "    return layers_final\n",
    "\n",
    "def backward_asig(Xst, Tst, Wst):\n",
    "    n_samples = Xst.shape[0]\n",
    "    n_outputs = Tst.shape[1]\n",
    "    gradient_list = []\n",
    "    \n",
    "    # Init forward values\n",
    "    outputs = forward_asig(Xst, Wst)\n",
    "    \n",
    "    # Init Delta\n",
    "    delta = -(Tst - outputs[-1]) /  (n_samples * n_outputs)\n",
    "    \n",
    "    # Back-propagate the delta value from the output layer, through the output layer weights,\n",
    "    # to the hidden units.  Multiply the result by the derivative of the hidden units'\n",
    "    # activation function, tanh\n",
    "    Wst.reverse()\n",
    "    outputs.reverse()\n",
    "    for i in range(len(Wst)):\n",
    "        # Output Layer\n",
    "        if i == 0:\n",
    "            gradient_W = add_ones(outputs[i + 1]).T @ delta\n",
    "            gradient_list.append(gradient_W)\n",
    "        # Hidden Layer(s)\n",
    "        elif i != len(Wst) - 1:  \n",
    "            delta = (delta @ Wst[i - 1][1:, :].T) * ((outputs[i]) * (1 - (outputs[i])))\n",
    "            gradient_V = add_ones(outputs[i + 1]).T @ delta\n",
    "            gradient_list.insert(0,gradient_V)\n",
    "        # Input Layer\n",
    "        else:\n",
    "            delta = (delta @ Wst[i - 1][1:, :].T) * ((outputs[i]) * (1 - (outputs[i])))\n",
    "            gradient_V = add_ones(Xst).T @ delta\n",
    "            gradient_list.insert(0,gradient_V)\n",
    "    \n",
    "    Wst.reverse()\n",
    "    return gradient_list\n",
    "\n",
    "def train_sgd_asig(X, T, Ws, learning_rate, n_epochs):\n",
    "    # Store standardization parameters in dictionary stand_parms.\n",
    "    stand_parms = calc_standardize_parameters(X, T)\n",
    "    # Standardize X and T.\n",
    "    Xst = standardize_X(X, stand_parms)\n",
    "    Tst = standardize_T(T, stand_parms)\n",
    "\n",
    "    error_trace = []\n",
    "\n",
    "    # Update weights for n_epochs passes through the training data\n",
    "    for epoch in range(n_epochs):\n",
    "\n",
    "        # Calculate the gradients of the mean squared error with respect to each weight matrix.\n",
    "        gradient_list = backward_asig(Xst, Tst, Ws)\n",
    "        \n",
    "        # Update the values in each weight matrix using SGD.\n",
    "        for i in range(len(Ws)):\n",
    "            Ws[i] -= learning_rate * gradient_list[i]\n",
    "\n",
    "        # Calculate the outputs of all layers given the current weight values.\n",
    "        Yst = forward_asig(Xst, Ws)\n",
    "        Y = unstandardize_T(Yst[-1], stand_parms)\n",
    "        error_trace.append(rmse(Y, T))\n",
    "\n",
    "    return Ws, stand_parms, error_trace\n",
    "\n",
    "def use_asig(X, Ws, stand_parms):\n",
    "    # Standardize inputs X\n",
    "    Xst = standardize_X(X, stand_parms)\n",
    "    # Calculate outputs of each layer.\n",
    "    Yst = forward_asig(Xst, Ws)\n",
    "    # Unstandardize output of output layer\n",
    "    Yst[-1] = unstandardize_T(Yst[-1], stand_parms)\n",
    "    return Yst"
   ]
  },
  {
   "cell_type": "code",
   "execution_count": 33,
   "metadata": {},
   "outputs": [
    {
     "name": "stdout",
     "output_type": "stream",
     "text": [
      "RMSE: Train 0.22 Test 0.29\n"
     ]
    }
   ],
   "source": [
    "# Train using given data (Xtrain, etc)\n",
    "n_inputs = Xtrain.shape[1]\n",
    "n_hiddens = [5,10]\n",
    "n_outputs = Ttrain.shape[1]\n",
    "\n",
    "n_epochs = 2000\n",
    "learning_rate = 0.1\n",
    "\n",
    "Ws = make_weights(n_inputs, n_hiddens, n_outputs)\n",
    "\n",
    "Ws, stand_parms, error_trace = train_sgd_asig(Xtrain, Ttrain, Ws, learning_rate, n_epochs)\n",
    "\n",
    "Ytrain = use_asig(Xtrain, Ws, stand_parms)\n",
    "rmse_train = rmse(Ytrain[-1], Ttrain)\n",
    "Ytest = use_asig(Xtest, Ws, stand_parms)\n",
    "rmse_test = rmse(Ytest[-1], Ttest)\n",
    "\n",
    "print(f'RMSE: Train {rmse_train:.2f} Test {rmse_test:.2f}')"
   ]
  },
  {
   "cell_type": "code",
   "execution_count": 34,
   "metadata": {},
   "outputs": [
    {
     "data": {
      "text/plain": [
       "Text(0, 0.5, 'Hidden Unit Outputs')"
      ]
     },
     "execution_count": 34,
     "metadata": {},
     "output_type": "execute_result"
    },
    {
     "data": {
      "image/png": "[encoded data removed]",
      "text/plain": [
       "<Figure size 720x720 with 4 Axes>"
      ]
     },
     "metadata": {
      "needs_background": "light"
     },
     "output_type": "display_data"
    }
   ],
   "source": [
    "# Plot results from training with given data\n",
    "plt.figure(figsize=(10, 10))\n",
    "plt.subplot(4, 1, 1)\n",
    "plt.plot(error_trace)\n",
    "plt.xlabel('Epoch')\n",
    "plt.ylabel('RMSE')\n",
    "\n",
    "plt.subplot(4, 1, 2)\n",
    "plt.plot(Xtrain, Ttrain, 'o', label='Training Data')\n",
    "plt.plot(Xtest, Ttest, 'o', label='Testing Data')\n",
    "X_for_plot = np.linspace(0, 20, 100).reshape(-1, 1)\n",
    "Y_train = use(X_for_plot, Ws, stand_parms)\n",
    "plt.plot(X_for_plot, Y_train[-1], label='Neural Net Output')\n",
    "plt.legend()\n",
    "plt.xlabel('X')\n",
    "plt.ylabel('Y')\n",
    "\n",
    "plt.subplot(4, 1, 3)\n",
    "plt.plot(X_for_plot, Y_train[0])\n",
    "plt.xlabel('X')\n",
    "plt.ylabel('Hidden Unit Outputs')\n",
    "\n",
    "plt.subplot(4, 1, 4)\n",
    "plt.plot(X_for_plot, Y_train[1])\n",
    "plt.xlabel('X')\n",
    "plt.ylabel('Hidden Unit Outputs')"
   ]
  },
  {
   "cell_type": "code",
   "execution_count": 35,
   "metadata": {},
   "outputs": [
    {
     "name": "stdout",
     "output_type": "stream",
     "text": [
      "RMSE: Train 0.16 Test 0.22\n",
      "RMSE: Train 0.16 Test 0.23\n",
      "RMSE: Train 0.16 Test 0.22\n",
      "RMSE: Train 0.36 Test 0.45\n"
     ]
    },
    {
     "data": {
      "text/plain": [
       "[[1, 0.16302095291522495, 0.22421985677887513],\n",
       " [2, 0.16269098858867417, 0.2315647013072359],\n",
       " [3, 0.163816650734786, 0.2240530578429693],\n",
       " [4, 0.36301455782484227, 0.44637600317766335]]"
      ]
     },
     "execution_count": 35,
     "metadata": {},
     "output_type": "execute_result"
    }
   ],
   "source": [
    "# Iterate and create NN with 1..N layers\n",
    "\n",
    "hidden_layers_list = [[4], [4,4], [4,4,4], [4,4,4,4]]\n",
    "n_epochs = 10000\n",
    "learning_rate = 0.1\n",
    "\n",
    "results = []\n",
    "\n",
    "for layer in hidden_layers_list:\n",
    "    \n",
    "    Ws = make_weights(n_inputs, layer, n_outputs)\n",
    "\n",
    "    Ws, stand_parms, error_trace = train_sgd_asig(Xtrain, Ttrain, Ws, learning_rate, n_epochs)\n",
    "\n",
    "    Ytrain = use_asig(Xtrain, Ws, stand_parms)\n",
    "    rmse_train = rmse(Ytrain[-1], Ttrain)\n",
    "    Ytest = use_asig(Xtest, Ws, stand_parms)\n",
    "    rmse_test = rmse(Ytest[-1], Ttest)\n",
    "    \n",
    "    results.append([len(layer), rmse_train, rmse_test])\n",
    "\n",
    "    print(f'RMSE: Train {rmse_train:.2f} Test {rmse_test:.2f}')\n",
    "\n",
    "results"
   ]
  },
  {
   "cell_type": "code",
   "execution_count": 36,
   "metadata": {
    "scrolled": true
   },
   "outputs": [
    {
     "data": {
      "text/html": [
       "<div>\n",
       "<style scoped>\n",
       "    .dataframe tbody tr th:only-of-type {\n",
       "        vertical-align: middle;\n",
       "    }\n",
       "\n",
       "    .dataframe tbody tr th {\n",
       "        vertical-align: top;\n",
       "    }\n",
       "\n",
       "    .dataframe thead th {\n",
       "        text-align: right;\n",
       "    }\n",
       "</style>\n",
       "<table border=\"1\" class=\"dataframe\">\n",
       "  <thead>\n",
       "    <tr style=\"text-align: right;\">\n",
       "      <th></th>\n",
       "      <th>Layers</th>\n",
       "      <th>RMSE Train</th>\n",
       "      <th>RMSE Test</th>\n",
       "    </tr>\n",
       "  </thead>\n",
       "  <tbody>\n",
       "    <tr>\n",
       "      <th>0</th>\n",
       "      <td>1</td>\n",
       "      <td>0.163021</td>\n",
       "      <td>0.224220</td>\n",
       "    </tr>\n",
       "    <tr>\n",
       "      <th>1</th>\n",
       "      <td>2</td>\n",
       "      <td>0.162691</td>\n",
       "      <td>0.231565</td>\n",
       "    </tr>\n",
       "    <tr>\n",
       "      <th>2</th>\n",
       "      <td>3</td>\n",
       "      <td>0.163817</td>\n",
       "      <td>0.224053</td>\n",
       "    </tr>\n",
       "    <tr>\n",
       "      <th>3</th>\n",
       "      <td>4</td>\n",
       "      <td>0.363015</td>\n",
       "      <td>0.446376</td>\n",
       "    </tr>\n",
       "  </tbody>\n",
       "</table>\n",
       "</div>"
      ],
      "text/plain": [
       "   Layers  RMSE Train  RMSE Test\n",
       "0       1    0.163021   0.224220\n",
       "1       2    0.162691   0.231565\n",
       "2       3    0.163817   0.224053\n",
       "3       4    0.363015   0.446376"
      ]
     },
     "execution_count": 36,
     "metadata": {},
     "output_type": "execute_result"
    }
   ],
   "source": [
    "import pandas\n",
    "df = pandas.DataFrame(results, columns=('Layers', 'RMSE Train', 'RMSE Test'))\n",
    "df"
   ]
  },
  {
   "cell_type": "markdown",
   "metadata": {},
   "source": [
    "### Discussion: sigmoid\n",
    "\n",
    "The experiment above was repeated with the same parameters as the previous (1 to 4 hidden layers each with 4 hidden units over 10000 training cycles). Comparing the results of the **sigmoid** and the **tanh**, they have very simiar RMSE values for the first three iterations, with the **tanh** function performing just a hair better on average. \n",
    "\n",
    "It would then be safe to assume that both activation functions managed to find the same local minimia among the input data for the first three iterations. However, when the number of hidden layers using the **sigmoid** function was 4, the RMSE increased to almost double the value from the previous iteration on both the training and test data. \n",
    "\n",
    "Generally the danger of adding an excessive amount of layers is _overfitting_ the training data, and then underperforming on the test data. In this case, we see poor performance on both training and test data, so overfitting is likely not the culprit. I would wager that the inital values created with the forward passes and 4 hidden layers are _further_ from the local minima than the first three iterations."
   ]
  },
  {
   "cell_type": "code",
   "execution_count": 39,
   "metadata": {
    "scrolled": true
   },
   "outputs": [
    {
     "name": "stdout",
     "output_type": "stream",
     "text": [
      "\n",
      "======================= Code Execution =======================\n",
      "\n",
      "Extracting python code from notebook named 'Ridgeway-A2.ipynb' and storing in notebookcode.py\n",
      "Removing all statements that are not function or class defs or import statements.\n",
      "\n",
      "## Testing ####################################################################\n",
      "\n",
      "    X = np.arange(4).reshape(-1, 1) + 5\n",
      "    T = np.array([1, 2, -3, -4]).reshape((-1, 1))\n",
      "    Ws = make_weights(1, [3, 4], 1)\n",
      "    for W in Ws:\n",
      "        W[:] = np.linspace(-1, 1, W.size).reshape(W.shape)\n",
      "\n",
      "    stand_parms = {'Xmeans': np.array([[0]]), 'Xstds': np.array([[1]]),\n",
      "                   'Tmeans': np.array([[0]]), 'Tstds': np.array([[1]])}\n",
      "\n",
      "    def print_layers(what, lst):\n",
      "        print(f'{what}:')\n",
      "        for (i, element) in enumerate(lst):\n",
      "            print(f' Layer {i}:')\n",
      "            print(f' {element}')\n",
      "\n",
      "    print('X is')\n",
      "    print(X)\n",
      "    print_layers('Ws', Ws)\n",
      "    print('stand_parms is')\n",
      "    print(stand_parms)\n",
      "    Ys = use(X, Ws, stand_parms)\n",
      "\n",
      "X is\n",
      " [[5]\n",
      " [6]\n",
      " [7]\n",
      " [8]]\n",
      "Ws:\n",
      " Layer 0:\n",
      " [[-1.  -0.6 -0.2]\n",
      " [ 0.2  0.6  1. ]]\n",
      " Layer 1:\n",
      " [[-1.         -0.86666667 -0.73333333 -0.6       ]\n",
      " [-0.46666667 -0.33333333 -0.2        -0.06666667]\n",
      " [ 0.06666667  0.2         0.33333333  0.46666667]\n",
      " [ 0.6         0.73333333  0.86666667  1.        ]]\n",
      " Layer 2:\n",
      " [[-1. ]\n",
      " [-0.5]\n",
      " [ 0. ]\n",
      " [ 0.5]\n",
      " [ 1. ]]\n",
      "stand_parms is\n",
      " {'Xmeans': array([[0]]), 'Xstds': array([[1]]), 'Tmeans': array([[0]]), 'Tstds': array([[1]])}\n",
      "\n",
      "--- 10/10 points. Returned correct values in Ys.\n",
      "\n",
      "## Testing ####################################################################\n",
      "\n",
      "    X = np.arange(4).reshape(-1, 1) + 5\n",
      "    T = np.array([1, 2, -3, -4]).reshape((-1, 1))\n",
      "    Ws = make_weights(1, [3, 4], 1)\n",
      "    for W in Ws:\n",
      "        W[:] = np.linspace(-1, 1, W.size).reshape(W.shape)\n",
      "\n",
      "    stand_parms = {'Xmeans': np.array([[0]]), 'Xstds': np.array([[1]]),\n",
      "                   'Tmeans': np.array([[0]]), 'Tstds': np.array([[1]])}\n",
      "    print('X is')\n",
      "    print(X)\n",
      "    print('T is')\n",
      "    print(T)\n",
      "    print_layers('Ws', Ws)\n",
      "    print('stand_parms is')\n",
      "    print(stand_parms)\n",
      "    gradients = backward(X, T, Ws)\n",
      "\n",
      "X is\n",
      " [[5]\n",
      " [6]\n",
      " [7]\n",
      " [8]]\n",
      "T is\n",
      " [[ 1]\n",
      " [ 2]\n",
      " [-3]\n",
      " [-4]]\n",
      "Ws:\n",
      " Layer 0:\n",
      " [[-1.  -0.6 -0.2]\n",
      " [ 0.2  0.6  1. ]]\n",
      " Layer 1:\n",
      " [[-1.         -0.86666667 -0.73333333 -0.6       ]\n",
      " [-0.46666667 -0.33333333 -0.2        -0.06666667]\n",
      " [ 0.06666667  0.2         0.33333333  0.46666667]\n",
      " [ 0.6         0.73333333  0.86666667  1.        ]]\n",
      " Layer 2:\n",
      " [[-1. ]\n",
      " [-0.5]\n",
      " [ 0. ]\n",
      " [ 0.5]\n",
      " [ 1. ]]\n",
      "stand_parms is\n",
      " {'Xmeans': array([[0]]), 'Xstds': array([[1]]), 'Tmeans': array([[0]]), 'Tstds': array([[1]])}\n",
      "\n",
      "--- 10/10 points. Returned correct values in gradients.\n",
      "\n",
      "## Testing ####################################################################\n",
      "\n",
      "    X = np.arange(4).reshape(-1, 1) + 5\n",
      "    T = np.array([1, 2, -3, -4]).reshape((-1, 1))\n",
      "    Ws = make_weights(1, [3, 4], 1)\n",
      "    for W in Ws:\n",
      "        W[:] = np.linspace(-1, 1, W.size).reshape(W.shape)\n",
      "\n",
      "    stand_parms = {'Xmeans': np.array([[0]]), 'Xstds': np.array([[1]]),\n",
      "                   'Tmeans': np.array([[0]]), 'Tstds': np.array([[1]])}\n",
      "\n",
      "    print('X is')\n",
      "    print(X)\n",
      "    print_layers('Ws', Ws)\n",
      "    print('stand_parms is')\n",
      "    print(stand_parms)\n",
      "    Ys = use_asig(X, Ws, stand_parms)\n",
      "\n",
      "X is\n",
      " [[5]\n",
      " [6]\n",
      " [7]\n",
      " [8]]\n",
      "Ws:\n",
      " Layer 0:\n",
      " [[-1.  -0.6 -0.2]\n",
      " [ 0.2  0.6  1. ]]\n",
      " Layer 1:\n",
      " [[-1.         -0.86666667 -0.73333333 -0.6       ]\n",
      " [-0.46666667 -0.33333333 -0.2        -0.06666667]\n",
      " [ 0.06666667  0.2         0.33333333  0.46666667]\n",
      " [ 0.6         0.73333333  0.86666667  1.        ]]\n",
      " Layer 2:\n",
      " [[-1. ]\n",
      " [-0.5]\n",
      " [ 0. ]\n",
      " [ 0.5]\n",
      " [ 1. ]]\n",
      "stand_parms is\n",
      " {'Xmeans': array([[0]]), 'Xstds': array([[1]]), 'Tmeans': array([[0]]), 'Tstds': array([[1]])}\n",
      "\n",
      "--- 10/10 points. Returned correct values in Ys.\n",
      "\n",
      "## Testing ####################################################################\n",
      "\n",
      "    X = np.arange(4).reshape(-1, 1) + 5\n",
      "    T = np.array([1, 2, -3, -4]).reshape((-1, 1))\n",
      "    Ws = make_weights(1, [3, 4], 1)\n",
      "    for W in Ws:\n",
      "        W[:] = np.linspace(-1, 1, W.size).reshape(W.shape)\n",
      "\n",
      "    stand_parms = {'Xmeans': np.array([[0]]), 'Xstds': np.array([[1]]),\n",
      "                   'Tmeans': np.array([[0]]), 'Tstds': np.array([[1]])}\n",
      "    print('X is')\n",
      "    print(X)\n",
      "    print('T is')\n",
      "    print(T)\n",
      "    print_layers('Ws', Ws)\n",
      "    print('stand_parms is')\n",
      "    print(stand_parms)\n",
      "\n",
      "    gradients = backward_asig(X, T, Ws)\n",
      "\n",
      "X is\n",
      " [[5]\n",
      " [6]\n",
      " [7]\n",
      " [8]]\n",
      "T is\n",
      " [[ 1]\n",
      " [ 2]\n",
      " [-3]\n",
      " [-4]]\n",
      "Ws:\n",
      " Layer 0:\n",
      " [[-1.  -0.6 -0.2]\n",
      " [ 0.2  0.6  1. ]]\n",
      " Layer 1:\n",
      " [[-1.         -0.86666667 -0.73333333 -0.6       ]\n",
      " [-0.46666667 -0.33333333 -0.2        -0.06666667]\n",
      " [ 0.06666667  0.2         0.33333333  0.46666667]\n",
      " [ 0.6         0.73333333  0.86666667  1.        ]]\n",
      " Layer 2:\n",
      " [[-1. ]\n",
      " [-0.5]\n",
      " [ 0. ]\n",
      " [ 0.5]\n",
      " [ 1. ]]\n",
      "stand_parms is\n",
      " {'Xmeans': array([[0]]), 'Xstds': array([[1]]), 'Tmeans': array([[0]]), 'Tstds': array([[1]])}\n",
      "\n",
      "--- 10/10 points. Returned correct values in gradients.\n",
      "\n",
      "## Testing ####################################################################\n",
      "\n",
      "    X = np.arange(4).reshape(-1, 1) + 5\n",
      "    T = np.array([1, 2, -3, -4]).reshape((-1, 1))\n",
      "    Ws = make_weights(1, [3, 4], 1)\n",
      "    for W in Ws:\n",
      "        W[:] = np.linspace(-1, 1, W.size).reshape(W.shape)\n",
      "    print('X is')\n",
      "    print(X)\n",
      "    print('T is')\n",
      "    print(T)\n",
      "    print_layers('Ws is', Ws)\n",
      "\n",
      "    Ws, stand_parms, error_trace = train_sgd_asig(X, T, Ws, 0.1, 100)\n",
      "\n",
      "X is\n",
      " [[5]\n",
      " [6]\n",
      " [7]\n",
      " [8]]\n",
      "T is\n",
      " [[ 1]\n",
      " [ 2]\n",
      " [-3]\n",
      " [-4]]\n",
      "Ws is:\n",
      " Layer 0:\n",
      " [[-1.  -0.6 -0.2]\n",
      " [ 0.2  0.6  1. ]]\n",
      " Layer 1:\n",
      " [[-1.         -0.86666667 -0.73333333 -0.6       ]\n",
      " [-0.46666667 -0.33333333 -0.2        -0.06666667]\n",
      " [ 0.06666667  0.2         0.33333333  0.46666667]\n",
      " [ 0.6         0.73333333  0.86666667  1.        ]]\n",
      " Layer 2:\n",
      " [[-1. ]\n",
      " [-0.5]\n",
      " [ 0. ]\n",
      " [ 0.5]\n",
      " [ 1. ]]\n",
      "\n",
      "--- 10/10 points. Returned correct values in Ws.\n",
      "\n",
      "--- 10/10 points. Returned correct final error in error_trace.\n",
      "\n",
      "======================================================================\n",
      "assignments Execution Grade is 60 / 60\n",
      "======================================================================\n",
      "\n",
      "__ / 10 points. Correct implementation of for loop to train neural nets with one, two, three\n",
      "                and four hidden layers each with 4 hidden units. Train each for 10,000 epochs\n",
      "                and a learning rate of 0.1.\n",
      "\n",
      "__ / 10 points. Construction of pandas Dataframe to display results of above four loop.\n",
      "\n",
      "__ / 10 points. Good discussion of the results from the four loop.  Use at least four sentences.\n",
      "\n",
      "__ / 10 points. Good discussion of results you get with the above loop using the asymmetric sigmoid\n",
      "                activation function.  Use at least six sentences.  In your discussion, compare differences\n",
      "                and similarities between the results for tanh and asymmetric sigmoid.\n",
      "\n",
      "======================================================================\n",
      "assignments Results and Discussion Grade is ___ / 40\n",
      "======================================================================\n",
      "\n",
      "======================================================================\n",
      "assignments FINAL GRADE is  _  / 100\n",
      "======================================================================\n"
     ]
    }
   ],
   "source": [
    "%run -i A2grader.py"
   ]
  }
 ],
 "metadata": {
  "kernelspec": {
   "display_name": "Python 3",
   "language": "python",
   "name": "python3"
  },
  "language_info": {
   "codemirror_mode": {
    "name": "ipython",
    "version": 3
   },
   "file_extension": ".py",
   "mimetype": "text/x-python",
   "name": "python",
   "nbconvert_exporter": "python",
   "pygments_lexer": "ipython3",
   "version": "3.7.7"
  },
  "toc": {
   "base_numbering": 1,
   "nav_menu": {},
   "number_sections": true,
   "sideBar": true,
   "skip_h1_title": false,
   "title_cell": "Table of Contents",
   "title_sidebar": "Contents",
   "toc_cell": true,
   "toc_position": {},
   "toc_section_display": true,
   "toc_window_display": false
  }
 },
 "nbformat": 4,
 "nbformat_minor": 4
}
